{
 "cells": [
  {
   "cell_type": "code",
   "execution_count": 1,
   "metadata": {},
   "outputs": [],
   "source": [
    "import sys\n",
    "sys.path.insert(0, '../src/models/')"
   ]
  },
  {
   "cell_type": "code",
   "execution_count": 3,
   "metadata": {},
   "outputs": [
    {
     "name": "stdout",
     "output_type": "stream",
     "text": [
      "Data of degree 1\n",
      "Epoch 1 / 1000 Loss: 1424.8804931640625 Validation Loss: 3009.244140625\n",
      "Epoch 1000 / 1000 Loss: 31.350955963134766 Validation Loss: 12.764132499694824\n",
      "OrderedDict([('linear.weight', tensor([[52.5184]])), ('linear.bias', tensor([-0.3790]))])\n",
      "MSE: 12.764132499694824 R2: 0.9960507589720713 Correlation: 0.99809114825599\n",
      "\n",
      "Data of degree 2\n",
      "Epoch 1 / 1000 Loss: 6532.0078125 Validation Loss: 12306.169921875\n",
      "Epoch 1000 / 1000 Loss: 2466.634033203125 Validation Loss: 8685.3642578125\n",
      "OrderedDict([('poly.0.weight', tensor([[-7.7498]])), ('poly.0.bias', tensor([14.5365])), ('poly.1.weight', tensor([[32.2372]])), ('poly.1.bias', tensor([13.6546]))])\n",
      "MSE: 8685.36328125 R2: 0.13772267610382194 Correlation: 0.46417870433865505\n",
      "\n",
      "Data of degree 3\n",
      "Epoch 1 / 1000 Loss: 10562021376.0 Validation Loss: 1246542299136.0\n",
      "Epoch 1000 / 1000 Loss: 3809117440.0 Validation Loss: 15339811840.0\n",
      "OrderedDict([('poly.0.weight', tensor([[51820.6367]])), ('poly.0.bias', tensor([1880.1947])), ('poly.1.weight', tensor([[3831.9788]])), ('poly.1.bias', tensor([1879.2181])), ('poly.2.weight', tensor([[309951.0625]])), ('poly.2.bias', tensor([1880.2767]))])\n",
      "MSE: 15339811840.0 R2: 0.9932407709769556 Correlation: 0.9975716368436438\n",
      "\n",
      "Data of degree 4\n",
      "Epoch 1 / 1000 Loss: 213774581628928.0 Validation Loss: 35780978278400.0\n",
      "Epoch 1000 / 1000 Loss: 26645771583488.0 Validation Loss: 3972236050432.0\n",
      "OrderedDict([('poly.0.weight', tensor([[527700.4375]])), ('poly.0.bias', tensor([-40324.5391])), ('poly.1.weight', tensor([[2202300.7500]])), ('poly.1.bias', tensor([-40325.8516])), ('poly.2.weight', tensor([[-1134253.2500]])), ('poly.2.bias', tensor([-40326.0391])), ('poly.3.weight', tensor([[4563760.5000]])), ('poly.3.bias', tensor([-40324.2266]))])\n",
      "MSE: 3972236050432.0 R2: 0.9499556724432955 Correlation: 0.9758620199337344\n",
      "\n",
      "Data of degree 5\n",
      "Epoch 1 / 1000 Loss: 8650710526722048.0 Validation Loss: 3232472112300032.0\n",
      "Epoch 1000 / 1000 Loss: inf Validation Loss: inf\n",
      "OrderedDict([('poly.0.weight', tensor([[-5.7611e+28]])), ('poly.0.bias', tensor([1.4725e+27])), ('poly.1.weight', tensor([[3.1463e+28]])), ('poly.1.bias', tensor([1.4725e+27])), ('poly.2.weight', tensor([[-9.8695e+28]])), ('poly.2.bias', tensor([1.4725e+27])), ('poly.3.weight', tensor([[1.6212e+29]])), ('poly.3.bias', tensor([1.4725e+27])), ('poly.4.weight', tensor([[-3.6110e+28]])), ('poly.4.bias', tensor([1.4725e+27]))])\n",
      "MSE: inf R2: -inf Correlation: -0.3911648025136183\n",
      "\n"
     ]
    },
    {
     "name": "stderr",
     "output_type": "stream",
     "text": [
      "/Users/radualexe/Desktop/MY_STUFF/regGPT/env/lib/python3.10/site-packages/sklearn/metrics/_regression.py:446: RuntimeWarning: overflow encountered in square\n",
      "  output_errors = np.average((y_true - y_pred) ** 2, axis=0, weights=sample_weight)\n",
      "/Users/radualexe/Desktop/MY_STUFF/regGPT/env/lib/python3.10/site-packages/sklearn/metrics/_regression.py:927: RuntimeWarning: overflow encountered in square\n",
      "  numerator = (weight * (y_true - y_pred) ** 2).sum(axis=0, dtype=np.float64)\n"
     ]
    }
   ],
   "source": [
    "from train_regression import *\n",
    "\n",
    "REG_TYPE = \"linear\"\n",
    "\n",
    "try:\n",
    "    for i in range(1, 6):\n",
    "        if i > 1:\n",
    "            REG_TYPE = \"polynomial\"\n",
    "        \n",
    "        print(f\"Data of degree {i}\")\n",
    "        mod = train(reg_type=REG_TYPE, degree=i, graph=False)\n",
    "        print(mod.get())\n",
    "        print(f\"MSE: {mod.get_mse()} R2: {mod.get_r2()} Correlation: {mod.get_correlation()}\")\n",
    "        print()\n",
    "except:\n",
    "    print(\"Degree overflow\")"
   ]
  }
 ],
 "metadata": {
  "kernelspec": {
   "display_name": "env",
   "language": "python",
   "name": "python3"
  },
  "language_info": {
   "codemirror_mode": {
    "name": "ipython",
    "version": 3
   },
   "file_extension": ".py",
   "mimetype": "text/x-python",
   "name": "python",
   "nbconvert_exporter": "python",
   "pygments_lexer": "ipython3",
   "version": "3.10.11"
  },
  "orig_nbformat": 4
 },
 "nbformat": 4,
 "nbformat_minor": 2
}
