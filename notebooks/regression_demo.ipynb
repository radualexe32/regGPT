{
 "cells": [
  {
   "cell_type": "code",
   "execution_count": 1,
   "metadata": {},
   "outputs": [],
   "source": [
    "import sys\n",
    "sys.path.insert(0, '../src/models/')"
   ]
  },
  {
   "cell_type": "code",
   "execution_count": 4,
   "metadata": {},
   "outputs": [
    {
     "name": "stdout",
     "output_type": "stream",
     "text": [
      "Epoch 1 / 1000 Loss: 0.17591774463653564 Validation Loss: 0.2634658217430115\n"
     ]
    },
    {
     "name": "stderr",
     "output_type": "stream",
     "text": [
      "/Users/radualexe/Desktop/MY_STUFF/regGPT/env/lib/python3.10/site-packages/scipy/stats/_stats_py.py:4424: ConstantInputWarning: An input array is constant; the correlation coefficient is not defined.\n",
      "  warnings.warn(stats.ConstantInputWarning(msg))\n"
     ]
    },
    {
     "name": "stdout",
     "output_type": "stream",
     "text": [
      "Epoch 1000 / 1000 Loss: 7.810641022842901e-12 Validation Loss: 8.953548839840675e-12\n",
      "OrderedDict([('linear.weight', tensor([[5.7055e-07]])), ('linear.bias', tensor([1.0000]))])\n",
      "Epoch 1 / 1000 Loss: 1665.7064208984375 Validation Loss: 3506.838623046875\n"
     ]
    },
    {
     "name": "stderr",
     "output_type": "stream",
     "text": [
      "/Users/radualexe/Desktop/MY_STUFF/regGPT/env/lib/python3.10/site-packages/scipy/stats/_stats_py.py:4424: ConstantInputWarning: An input array is constant; the correlation coefficient is not defined.\n",
      "  warnings.warn(stats.ConstantInputWarning(msg))\n"
     ]
    },
    {
     "name": "stdout",
     "output_type": "stream",
     "text": [
      "Epoch 1000 / 1000 Loss: 14.882034301757812 Validation Loss: 25.924795150756836\n",
      "OrderedDict([('linear.weight', tensor([[51.9621]])), ('linear.bias', tensor([-0.4285]))])\n",
      "Epoch 1 / 1000 Loss: 23170032.0 Validation Loss: 91087256.0\n",
      "Epoch 1000 / 1000 Loss: 440957.65625 Validation Loss: 2061949.0\n",
      "OrderedDict([('poly.0.weight', tensor([[114.2905]])), ('poly.0.bias', tensor([-1.4343])), ('poly.1.weight', tensor([[3835.6858]])), ('poly.1.bias', tensor([-1.1901]))])\n",
      "Epoch 1 / 1000 Loss: 6520737792.0 Validation Loss: 4488236544.0\n",
      "Epoch 1000 / 1000 Loss: 8114210816.0 Validation Loss: 3266360064.0\n",
      "OrderedDict([('poly.0.weight', tensor([[24973.5488]])), ('poly.0.bias', tensor([-3982.2839])), ('poly.1.weight', tensor([[27466.8281]])), ('poly.1.bias', tensor([-3982.9463])), ('poly.2.weight', tensor([[221700.4219]])), ('poly.2.bias', tensor([-3982.2112]))])\n",
      "Epoch 1 / 1000 Loss: 1203359105155072.0 Validation Loss: 4.17561668319445e+17\n",
      "Epoch 1000 / 1000 Loss: 299718018072576.0 Validation Loss: 1839694883061760.0\n",
      "OrderedDict([('poly.0.weight', tensor([[7964543.5000]])), ('poly.0.bias', tensor([-1064536.])), ('poly.1.weight', tensor([[2982358.]])), ('poly.1.bias', tensor([-1064536.])), ('poly.2.weight', tensor([[-7480249.]])), ('poly.2.bias', tensor([-1064537.])), ('poly.3.weight', tensor([[94338736.]])), ('poly.3.bias', tensor([-1064536.]))])\n",
      "Epoch 1 / 1000 Loss: 3.3151966076574106e+17 Validation Loss: 8.965543569527931e+17\n",
      "Epoch 1000 / 1000 Loss: 8.33762365236513e+32 Validation Loss: 4.0854955214310655e+33\n",
      "OrderedDict([('poly.0.weight', tensor([[1.0184e+16]])), ('poly.0.bias', tensor([-1.6924e+15])), ('poly.1.weight', tensor([[-3.3385e+15]])), ('poly.1.bias', tensor([-1.6924e+15])), ('poly.2.weight', tensor([[1.2529e+16]])), ('poly.2.bias', tensor([-1.6924e+15])), ('poly.3.weight', tensor([[-1.9391e+15]])), ('poly.3.bias', tensor([-1.6924e+15])), ('poly.4.weight', tensor([[-3.7731e+15]])), ('poly.4.bias', tensor([-1.6924e+15]))])\n",
      "Epoch 1 / 1000 Loss: 4.021994349857569e+30 Validation Loss: 8.72870333277684e+34\n",
      "Epoch 1000 / 1000 Loss: nan Validation Loss: nan\n",
      "Error in training\n"
     ]
    }
   ],
   "source": [
    "from train_regression import *\n",
    "\n",
    "REG_TYPE = \"linear\"\n",
    "\n",
    "try:\n",
    "    for i in range(10):\n",
    "        if i > 1:\n",
    "            REG_TYPE = \"polynomial\"\n",
    "        \n",
    "        mod = train(reg_type=REG_TYPE, degree=i)\n",
    "        print(mod.get())\n",
    "except:\n",
    "    print(\"Degree overflow\")"
   ]
  }
 ],
 "metadata": {
  "kernelspec": {
   "display_name": "env",
   "language": "python",
   "name": "python3"
  },
  "language_info": {
   "codemirror_mode": {
    "name": "ipython",
    "version": 3
   },
   "file_extension": ".py",
   "mimetype": "text/x-python",
   "name": "python",
   "nbconvert_exporter": "python",
   "pygments_lexer": "ipython3",
   "version": "3.10.11"
  },
  "orig_nbformat": 4
 },
 "nbformat": 4,
 "nbformat_minor": 2
}
