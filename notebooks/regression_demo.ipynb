{
 "cells": [
  {
   "cell_type": "code",
   "execution_count": 1,
   "metadata": {},
   "outputs": [],
   "source": [
    "import sys\n",
    "sys.path.insert(0, '../src/models/')"
   ]
  },
  {
   "cell_type": "code",
   "execution_count": 11,
   "metadata": {},
   "outputs": [
    {
     "name": "stdout",
     "output_type": "stream",
     "text": [
      "Data of degree 0\n",
      "Epoch 1 / 1000 Loss: 2.8034815788269043 Validation Loss: 3.724139451980591\n"
     ]
    },
    {
     "name": "stderr",
     "output_type": "stream",
     "text": [
      "/Users/radualexe/Desktop/MY_STUFF/regGPT/env/lib/python3.10/site-packages/scipy/stats/_stats_py.py:4424: ConstantInputWarning: An input array is constant; the correlation coefficient is not defined.\n",
      "  warnings.warn(stats.ConstantInputWarning(msg))\n"
     ]
    },
    {
     "name": "stdout",
     "output_type": "stream",
     "text": [
      "Epoch 1000 / 1000 Loss: 1.6413537196058314e-12 Validation Loss: 1.7674750552032492e-12\n",
      "OrderedDict([('linear.weight', tensor([[1.4304e-07]])), ('linear.bias', tensor([1.0000]))])\n",
      "MSE: 1.7674750552032492e-12 R2: 0.0 Correlation: nan\n",
      "\n",
      "Data of degree 1\n",
      "Epoch 1 / 1000 Loss: 7397.603515625 Validation Loss: 6507.7529296875\n"
     ]
    },
    {
     "name": "stderr",
     "output_type": "stream",
     "text": [
      "/Users/radualexe/Desktop/MY_STUFF/regGPT/env/lib/python3.10/site-packages/scipy/stats/_stats_py.py:4424: ConstantInputWarning: An input array is constant; the correlation coefficient is not defined.\n",
      "  warnings.warn(stats.ConstantInputWarning(msg))\n"
     ]
    },
    {
     "name": "stdout",
     "output_type": "stream",
     "text": [
      "Epoch 1000 / 1000 Loss: 17.975170135498047 Validation Loss: 20.617263793945312\n",
      "OrderedDict([('linear.weight', tensor([[89.5696]])), ('linear.bias', tensor([-0.3310]))])\n",
      "MSE: 20.617263793945312 R2: 0.9969429807449063 Correlation: 0.9986001573048608\n",
      "\n",
      "Data of degree 2\n",
      "Epoch 1 / 1000 Loss: 105184520.0 Validation Loss: 133233576.0\n",
      "Epoch 1000 / 1000 Loss: 732526.3125 Validation Loss: 1235890.625\n",
      "OrderedDict([('poly.0.weight', tensor([[37.3344]])), ('poly.0.bias', tensor([80.0755])), ('poly.1.weight', tensor([[7011.1147]])), ('poly.1.bias', tensor([80.0650]))])\n",
      "MSE: 1235890.625 R2: 0.9915787680677817 Correlation: 0.9958422095759842\n",
      "\n",
      "Data of degree 3\n",
      "Epoch 1 / 1000 Loss: 6469038.5 Validation Loss: 37313584.0\n",
      "Epoch 1000 / 1000 Loss: 7030824.0 Validation Loss: 9073823.0\n",
      "OrderedDict([('poly.0.weight', tensor([[822.9257]])), ('poly.0.bias', tensor([-123.8009])), ('poly.1.weight', tensor([[301.4433]])), ('poly.1.bias', tensor([-124.1995])), ('poly.2.weight', tensor([[2208.0493]])), ('poly.2.bias', tensor([-122.5591]))])\n",
      "MSE: 9073824.0 R2: 0.8932249232537168 Correlation: 0.9561273663103921\n",
      "\n",
      "Data of degree 4\n",
      "Epoch 1 / 1000 Loss: 5.618704133914624e+16 Validation Loss: 1.3863503743942656e+16\n",
      "Epoch 1000 / 1000 Loss: 4.3625746167245046e+18 Validation Loss: 3.651497357297582e+18\n",
      "OrderedDict([('poly.0.weight', tensor([[1.6976e+08]])), ('poly.0.bias', tensor([4.0126e+08])), ('poly.1.weight', tensor([[9.5444e+08]])), ('poly.1.bias', tensor([4.0126e+08])), ('poly.2.weight', tensor([[3.2560e+08]])), ('poly.2.bias', tensor([4.0126e+08])), ('poly.3.weight', tensor([[-2.1648e+08]])), ('poly.3.bias', tensor([4.0126e+08]))])\n",
      "MSE: 3.651497082419675e+18 R2: -562.1782236963256 Correlation: -0.3898625495408879\n",
      "\n"
     ]
    }
   ],
   "source": [
    "from train_regression import *\n",
    "\n",
    "REG_TYPE = \"linear\"\n",
    "\n",
    "try:\n",
    "    for i in range(5):\n",
    "        if i > 1:\n",
    "            REG_TYPE = \"polynomial\"\n",
    "        \n",
    "        print(f\"Data of degree {i}\")\n",
    "        mod = train(reg_type=REG_TYPE, degree=i)\n",
    "        print(mod.get())\n",
    "        print(f\"MSE: {mod.get_mse()} R2: {mod.get_r2()} Correlation: {mod.get_correlation()}\")\n",
    "        print()\n",
    "except:\n",
    "    print(\"Degree overflow\")"
   ]
  }
 ],
 "metadata": {
  "kernelspec": {
   "display_name": "env",
   "language": "python",
   "name": "python3"
  },
  "language_info": {
   "codemirror_mode": {
    "name": "ipython",
    "version": 3
   },
   "file_extension": ".py",
   "mimetype": "text/x-python",
   "name": "python",
   "nbconvert_exporter": "python",
   "pygments_lexer": "ipython3",
   "version": "3.10.11"
  },
  "orig_nbformat": 4
 },
 "nbformat": 4,
 "nbformat_minor": 2
}
