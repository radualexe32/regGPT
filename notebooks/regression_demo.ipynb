{
 "cells": [
  {
   "cell_type": "code",
   "execution_count": 1,
   "metadata": {},
   "outputs": [],
   "source": [
    "import sys\n",
    "sys.path.insert(0, '../src/models/')"
   ]
  },
  {
   "cell_type": "code",
   "execution_count": 2,
   "metadata": {},
   "outputs": [
    {
     "name": "stdout",
     "output_type": "stream",
     "text": [
      "Data of degree 1\n",
      "Epoch 1 / 1000 Loss: 442.98388671875 Validation Loss: 479.506103515625\n",
      "Epoch 1000 / 1000 Loss: 39.416969299316406 Validation Loss: 20.204137802124023\n",
      "OrderedDict([('linear.weight', tensor([[23.6195]])), ('linear.bias', tensor([0.7091]))])\n",
      "MSE: 20.204137802124023 R2: 0.9652946179193185 Correlation: 0.9837635263117352\n",
      "\n",
      "Data of degree 2\n",
      "Epoch 1 / 1000 Loss: 22598290.0 Validation Loss: 14160790.0\n",
      "Epoch 1000 / 1000 Loss: 118748.796875 Validation Loss: 572240.5625\n",
      "OrderedDict([('poly.0.weight', tensor([[-11.8708]])), ('poly.0.bias', tensor([59.4051])), ('poly.1.weight', tensor([[2763.8828]])), ('poly.1.bias', tensor([60.3677])), ('poly.2.weight', tensor([[23.4730]])), ('poly.2.bias', tensor([60.8667]))])\n",
      "MSE: 572240.5625 R2: 0.954324970961089 Correlation: 0.9808382833220572\n",
      "\n",
      "Data of degree 3\n",
      "Epoch 1 / 1000 Loss: 972377024.0 Validation Loss: 943853888.0\n",
      "Epoch 1000 / 1000 Loss: 7985474560.0 Validation Loss: 11431805952.0\n",
      "OrderedDict([('poly.0.weight', tensor([[6261.4468]])), ('poly.0.bias', tensor([2394.1292])), ('poly.1.weight', tensor([[5792.5376]])), ('poly.1.bias', tensor([2394.0881])), ('poly.2.weight', tensor([[30820.1172]])), ('poly.2.bias', tensor([2393.3909])), ('poly.3.weight', tensor([[2502.0347]])), ('poly.3.bias', tensor([2394.1174]))])\n",
      "MSE: 11431805952.0 R2: -18.531296663874244 Correlation: 0.9553131911810064\n",
      "\n",
      "Data of degree 4\n",
      "Epoch 1 / 1000 Loss: 2.8843608790532096e+17 Validation Loss: 6.118753346393211e+17\n",
      "Epoch 1000 / 1000 Loss: inf Validation Loss: inf\n",
      "OrderedDict([('poly.0.weight', tensor([[-2.2880e+26]])), ('poly.0.bias', tensor([-1.5365e+26])), ('poly.1.weight', tensor([[-1.5537e+26]])), ('poly.1.bias', tensor([-1.5365e+26])), ('poly.2.weight', tensor([[-4.8866e+26]])), ('poly.2.bias', tensor([-1.5365e+26])), ('poly.3.weight', tensor([[7.2805e+26]])), ('poly.3.bias', tensor([-1.5365e+26])), ('poly.4.weight', tensor([[-1.5242e+26]])), ('poly.4.bias', tensor([-1.5365e+26]))])\n",
      "MSE: inf R2: -inf Correlation: 0.7312762712713332\n",
      "\n",
      "Data of degree 5\n",
      "Epoch 1 / 1000 Loss: 7.077463221097347e+25 Validation Loss: 7.549374230044196e+30\n"
     ]
    },
    {
     "name": "stderr",
     "output_type": "stream",
     "text": [
      "/Users/radualexe/Desktop/MY_STUFF/regGPT/env/lib/python3.10/site-packages/sklearn/metrics/_regression.py:446: RuntimeWarning: overflow encountered in square\n",
      "  output_errors = np.average((y_true - y_pred) ** 2, axis=0, weights=sample_weight)\n",
      "/Users/radualexe/Desktop/MY_STUFF/regGPT/env/lib/python3.10/site-packages/sklearn/metrics/_regression.py:927: RuntimeWarning: overflow encountered in square\n",
      "  numerator = (weight * (y_true - y_pred) ** 2).sum(axis=0, dtype=np.float64)\n"
     ]
    },
    {
     "name": "stdout",
     "output_type": "stream",
     "text": [
      "Epoch 1000 / 1000 Loss: nan Validation Loss: nan\n",
      "Degree overflow\n"
     ]
    }
   ],
   "source": [
    "from train_regression import *\n",
    "\n",
    "REG_TYPE = \"linear\"\n",
    "\n",
    "try:\n",
    "    for i in range(1, 6):\n",
    "        if i > 1:\n",
    "            REG_TYPE = \"polynomial\"\n",
    "        \n",
    "        print(f\"Data of degree {i}\")\n",
    "        mod = train(reg_type=REG_TYPE, degree=i, graph=False)\n",
    "        print(mod.get())\n",
    "        print(f\"MSE: {mod.get_mse()} R2: {mod.get_r2()} Correlation: {mod.get_correlation()}\")\n",
    "        print()\n",
    "except:\n",
    "    print(\"Degree overflow\")"
   ]
  }
 ],
 "metadata": {
  "kernelspec": {
   "display_name": "env",
   "language": "python",
   "name": "python3"
  },
  "language_info": {
   "codemirror_mode": {
    "name": "ipython",
    "version": 3
   },
   "file_extension": ".py",
   "mimetype": "text/x-python",
   "name": "python",
   "nbconvert_exporter": "python",
   "pygments_lexer": "ipython3",
   "version": "3.10.11"
  },
  "orig_nbformat": 4
 },
 "nbformat": 4,
 "nbformat_minor": 2
}
