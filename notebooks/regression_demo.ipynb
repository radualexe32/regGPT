{
 "cells": [
  {
   "cell_type": "code",
   "execution_count": 1,
   "metadata": {},
   "outputs": [],
   "source": [
    "import sys\n",
    "sys.path.insert(0, '../src/models/')"
   ]
  },
  {
   "cell_type": "code",
   "execution_count": 2,
   "metadata": {},
   "outputs": [
    {
     "name": "stdout",
     "output_type": "stream",
     "text": [
      "Data of degree 1\n",
      "Epoch 1 / 1000 Loss: 3071.26171875 Validation Loss: 2034.503662109375\n",
      "Epoch 1000 / 1000 Loss: 17.07089614868164 Validation Loss: 29.457775115966797\n",
      "OrderedDict([('linear.weight', tensor([[46.3531]])), ('linear.bias', tensor([1.2774]))])\n",
      "MSE: 29.457775115966797 R2: 0.9873575839097448 Correlation: 0.9942800591853891\n",
      "\n",
      "Data of degree 2\n",
      "Epoch 1 / 1000 Loss: 109297992.0 Validation Loss: 56450348.0\n",
      "Epoch 1000 / 1000 Loss: 1144574.5 Validation Loss: 264694.6875\n",
      "OrderedDict([('poly.0.weight', tensor([[-21.4536]])), ('poly.0.bias', tensor([91.4087])), ('poly.1.weight', tensor([[7175.2075]])), ('poly.1.bias', tensor([91.2845]))])\n",
      "MSE: 264694.6875 R2: 0.9964073142494164 Correlation: 0.9987639934714174\n",
      "\n",
      "Data of degree 3\n",
      "Epoch 1 / 1000 Loss: 38782988288.0 Validation Loss: 3469472512.0\n",
      "Epoch 1000 / 1000 Loss: 699455488.0 Validation Loss: 1255385344.0\n",
      "OrderedDict([('poly.0.weight', tensor([[18317.3105]])), ('poly.0.bias', tensor([92.5189])), ('poly.1.weight', tensor([[-2495.8149]])), ('poly.1.bias', tensor([92.2025])), ('poly.2.weight', tensor([[91775.6484]])), ('poly.2.bias', tensor([92.5156]))])\n",
      "MSE: 1255385088.0 R2: 0.9462001361725814 Correlation: 0.9753798460915726\n",
      "\n",
      "Data of degree 4\n",
      "Epoch 1 / 1000 Loss: 58297974784.0 Validation Loss: 296419819520.0\n",
      "Epoch 1000 / 1000 Loss: 4.095070786822324e+21 Validation Loss: 4.411835970213055e+21\n",
      "OrderedDict([('poly.0.weight', tensor([[-3.4839e+08]])), ('poly.0.bias', tensor([7.8799e+09])), ('poly.1.weight', tensor([[1.7335e+10]])), ('poly.1.bias', tensor([7.8799e+09])), ('poly.2.weight', tensor([[1.2987e+10]])), ('poly.2.bias', tensor([7.8799e+09])), ('poly.3.weight', tensor([[1.0524e+09]])), ('poly.3.bias', tensor([7.8799e+09]))])\n",
      "MSE: 4.4118365331630085e+21 R2: -111491968859.07494 Correlation: 0.002664843797489949\n",
      "\n",
      "Data of degree 5\n",
      "Epoch 1 / 1000 Loss: 2.6213052097528594e+19 Validation Loss: 3.971747733063619e+20\n",
      "Epoch 1000 / 1000 Loss: inf Validation Loss: inf\n",
      "OrderedDict([('poly.0.weight', tensor([[1.4387e+32]])), ('poly.0.bias', tensor([-1.3287e+32])), ('poly.1.weight', tensor([[-3.0374e+32]])), ('poly.1.bias', tensor([-1.3287e+32])), ('poly.2.weight', tensor([[3.5443e+32]])), ('poly.2.bias', tensor([-1.3287e+32])), ('poly.3.weight', tensor([[9.2329e+31]])), ('poly.3.bias', tensor([-1.3287e+32])), ('poly.4.weight', tensor([[-4.0415e+31]])), ('poly.4.bias', tensor([-1.3287e+32]))])\n",
      "MSE: inf R2: -inf Correlation: 0.8919710773012143\n",
      "\n"
     ]
    },
    {
     "name": "stderr",
     "output_type": "stream",
     "text": [
      "/Users/radualexe/Desktop/MY_STUFF/regGPT/env/lib/python3.10/site-packages/sklearn/metrics/_regression.py:446: RuntimeWarning: overflow encountered in square\n",
      "  output_errors = np.average((y_true - y_pred) ** 2, axis=0, weights=sample_weight)\n",
      "/Users/radualexe/Desktop/MY_STUFF/regGPT/env/lib/python3.10/site-packages/sklearn/metrics/_regression.py:927: RuntimeWarning: overflow encountered in square\n",
      "  numerator = (weight * (y_true - y_pred) ** 2).sum(axis=0, dtype=np.float64)\n"
     ]
    }
   ],
   "source": [
    "from train_regression import *\n",
    "\n",
    "REG_TYPE = \"linear\"\n",
    "\n",
    "try:\n",
    "    for i in range(1, 6):\n",
    "        if i > 1:\n",
    "            REG_TYPE = \"polynomial\"\n",
    "        \n",
    "        print(f\"Data of degree {i}\")\n",
    "        mod = train(reg_type=REG_TYPE, degree=i, graph=False)\n",
    "        print(mod.get())\n",
    "        print(f\"MSE: {mod.get_mse()} R2: {mod.get_r2()} Correlation: {mod.get_correlation()}\")\n",
    "        print()\n",
    "except:\n",
    "    print(\"Degree overflow\")"
   ]
  }
 ],
 "metadata": {
  "kernelspec": {
   "display_name": "env",
   "language": "python",
   "name": "python3"
  },
  "language_info": {
   "codemirror_mode": {
    "name": "ipython",
    "version": 3
   },
   "file_extension": ".py",
   "mimetype": "text/x-python",
   "name": "python",
   "nbconvert_exporter": "python",
   "pygments_lexer": "ipython3",
   "version": "3.10.11"
  },
  "orig_nbformat": 4
 },
 "nbformat": 4,
 "nbformat_minor": 2
}
