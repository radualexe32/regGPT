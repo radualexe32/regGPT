{
 "cells": [
  {
   "attachments": {},
   "cell_type": "markdown",
   "metadata": {},
   "source": [
    "The implementation for the updates of weights and biases for all types of regression (linear, logistic and polynomial so far) was first implemented with a batch gradient descent. Recently, a new mini-batch gradient descent algorithm was implemented in preparation for possible large datasets. "
   ]
  },
  {
   "cell_type": "code",
   "execution_count": 1,
   "metadata": {},
   "outputs": [],
   "source": [
    "import numpy as np \n",
    "import os, sys\n",
    "import time"
   ]
  },
  {
   "attachments": {},
   "cell_type": "markdown",
   "metadata": {},
   "source": [
    "Adding the `/src` directory to the os path."
   ]
  },
  {
   "cell_type": "code",
   "execution_count": 2,
   "metadata": {},
   "outputs": [],
   "source": [
    "sys.path.append(os.path.abspath(\"../src\"))\n",
    "from sl_reg import LinearRegression\n",
    "from logistic_reg import LogisticRegression\n",
    "from pol_reg import PolynomialRegression\n",
    "from train import train_slr, train_pol_reg"
   ]
  },
  {
   "cell_type": "code",
   "execution_count": 3,
   "metadata": {},
   "outputs": [
    {
     "name": "stdout",
     "output_type": "stream",
     "text": [
      "y = [41.85300714]x + 0.45278445750659374 --> Mini-Batch GD: False\n",
      "MSE = 22.476574146528563\n",
      "····· Runtime for SLR with Mini-Batch GD: False is 0.0084 seconds\n",
      "y = [43.31617245]x + 0.7521638896644689 --> Mini-Batch GD: True\n",
      "MSE = 21.016657028743847\n",
      "····· Runtime for SLR with Mini-Batch GD: True is 0.1064 seconds\n",
      "----------------------------------------------------------------------------------------------------------------------------------\n",
      "y = [ 142.54832198  -50.05282129 1664.19461412]x + 142.5483219812984 --> Mini-Batch GD: False\n",
      "MSE = 180937.81250824855\n",
      "····· Runtime for PolReg with Mini-Batch GD: False is 0.0158 seconds\n",
      "y = [   8.05606199   76.0383956  1873.53557337]x + 8.056061994112095 --> Mini-Batch GD: True\n",
      "MSE = 115618.81148758307\n",
      "····· Runtime for PolReg with Mini-Batch GD: True is 0.5121 seconds\n"
     ]
    }
   ],
   "source": [
    "def bench(func, *args, **kwargs):\n",
    "    start = time.time()\n",
    "    mod = func(*args, **kwargs)\n",
    "    end = time.time()\n",
    "    return end - start, mod\n",
    "\n",
    "\n",
    "def output(samples = 100):\n",
    "    mini_batch_bool = [False, True]\n",
    "    for val in mini_batch_bool:\n",
    "        runtime, mod = bench(train_slr, mini_batch = val, samples = samples)\n",
    "        print(f\"····· Runtime for SLR with Mini-Batch GD: {val} is {runtime:.4f} seconds\")\n",
    "\n",
    "    print(\"-\" * 130)\n",
    "\n",
    "    for val in mini_batch_bool:\n",
    "        runtime, mod = bench(train_pol_reg, mini_batch = val)\n",
    "        print(f\"····· Runtime for PolReg with Mini-Batch GD: {val} is {runtime:.4f} seconds\")\n",
    "\n",
    "output()"
   ]
  },
  {
   "attachments": {},
   "cell_type": "markdown",
   "metadata": {},
   "source": [
    "Increasing number of sample points generated."
   ]
  },
  {
   "cell_type": "code",
   "execution_count": 4,
   "metadata": {},
   "outputs": [
    {
     "name": "stdout",
     "output_type": "stream",
     "text": [
      "y = [28.98150131]x + 0.03257857201784551 --> Mini-Batch GD: False\n",
      "MSE = 25.361576437235964\n",
      "····· Runtime for SLR with Mini-Batch GD: False is 2.6603 seconds\n",
      "y = [1.48521674]x + 0.0021667707261960488 --> Mini-Batch GD: True\n",
      "MSE = 810.1756866390048\n",
      "····· Runtime for SLR with Mini-Batch GD: True is 14.5340 seconds\n",
      "----------------------------------------------------------------------------------------------------------------------------------\n",
      "y = [ 142.54832198  -50.05282129 1664.19461412]x + 142.5483219812984 --> Mini-Batch GD: False\n",
      "MSE = 180937.81250824855\n",
      "····· Runtime for PolReg with Mini-Batch GD: False is 0.0237 seconds\n",
      "y = [   4.67484045   75.38670085 1861.12064107]x + 4.674840454278662 --> Mini-Batch GD: True\n",
      "MSE = 115650.42874818985\n",
      "····· Runtime for PolReg with Mini-Batch GD: True is 0.5764 seconds\n"
     ]
    }
   ],
   "source": [
    "output(samples = 100000)"
   ]
  }
 ],
 "metadata": {
  "kernelspec": {
   "display_name": "env",
   "language": "python",
   "name": "python3"
  },
  "language_info": {
   "codemirror_mode": {
    "name": "ipython",
    "version": 3
   },
   "file_extension": ".py",
   "mimetype": "text/x-python",
   "name": "python",
   "nbconvert_exporter": "python",
   "pygments_lexer": "ipython3",
   "version": "3.10.11"
  },
  "orig_nbformat": 4
 },
 "nbformat": 4,
 "nbformat_minor": 2
}
