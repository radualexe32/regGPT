{
 "cells": [
  {
   "cell_type": "code",
   "execution_count": 4,
   "metadata": {},
   "outputs": [],
   "source": [
    "import sys\n",
    "sys.path.insert(0, '../src/models/')"
   ]
  },
  {
   "cell_type": "code",
   "execution_count": 5,
   "metadata": {},
   "outputs": [
    {
     "name": "stdout",
     "output_type": "stream",
     "text": [
      "Epoch 1 / 1000 Loss: 3750.258544921875 Validation Loss: 5505.04345703125\n",
      "Epoch 1000 / 1000 Loss: 25.269893646240234 Validation Loss: 32.621219635009766\n",
      "\n",
      "\n",
      "    Classification model:\n",
      "    ind_var='continuous quantitative' dep_var='continuous quantitative' reg_type='linear' deg_range='1'\n",
      "\n",
      "    Regression model:\n",
      "    OrderedDict([('linear.weight', tensor([[69.4550]])), ('linear.bias', tensor([0.9016]))])\n",
      "\n",
      "    Relevant stats:\n",
      "    {'MSE': 32.62122, 'R2': 0.9931669356390611, 'Correlation': 0.9974895678067782}\n",
      "\n",
      "    Statistics suggestions:\n",
      "    h_tests=['Normality test for residuals', 'Test for homoscedasticity', 'Test for multicollinearity', 'Significance test for slope coefficient', 'Test for presence of outliers'] reg_model_tests=['Durbin-Watson test', 'Breusch-Pagan test', 'White test', 'Heteroskedasticity-consistent standard errors', \"Cook's distance test\"] further_reg=['Polynomial regression', 'Ridge regression', 'Lasso regression', 'Stepwise regression', 'Logistic regression'] pred_tools=['Confidence intervals for predicted values', 'Prediction intervals for predicted values', 'Cross-validation', 'Bootstrap resampling', 'Receiver operating characteristic (ROC) curve analysis']\n",
      "    \n"
     ]
    }
   ],
   "source": [
    "from pipeline import *\n",
    "\n",
    "output = components_link(file='../data/linear.csv', reg_types=['linear', 'polynomial'], number=-1, text=\"\")\n",
    "print()\n",
    "print(output)"
   ]
  },
  {
   "attachments": {},
   "cell_type": "markdown",
   "metadata": {},
   "source": [
    "For a better interface use [gradio](https://gradio.app/) by running `python3 src/models/pipeline.py` if you are in the home directory of the project in your terminal."
   ]
  }
 ],
 "metadata": {
  "kernelspec": {
   "display_name": "env",
   "language": "python",
   "name": "python3"
  },
  "language_info": {
   "codemirror_mode": {
    "name": "ipython",
    "version": 3
   },
   "file_extension": ".py",
   "mimetype": "text/x-python",
   "name": "python",
   "nbconvert_exporter": "python",
   "pygments_lexer": "ipython3",
   "version": "3.10.11"
  },
  "orig_nbformat": 4
 },
 "nbformat": 4,
 "nbformat_minor": 2
}
